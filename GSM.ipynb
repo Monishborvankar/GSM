{
 "cells": [
  {
   "cell_type": "code",
   "execution_count": 2,
   "id": "6237ba84",
   "metadata": {},
   "outputs": [
    {
     "name": "stdout",
     "output_type": "stream",
     "text": [
      "128 Bit Key =  11101010010100001110010100000000010101000110011111010000101110011000110111100111100010110100011111001001010100011001110101001100\n",
      "128 Random Bits Generated =  11110101111011111110010111100011101010100010011110011100101110101000101101010110001001000101001010000000100001110000101100101011\n",
      "RES/SRES =  10101110100110000111010110010010\n"
     ]
    }
   ],
   "source": [
    "import random\n",
    "\n",
    "k=random.getrandbits(128)\n",
    "m=random.getrandbits(128)\n",
    "kb=bin(k)[2:]\n",
    "mb=bin(m)[2:]\n",
    "kbl=kb[0:64]\n",
    "kbr=kb[64:]\n",
    "mbl=mb[0:64]\n",
    "mbr=mb[64:]\n",
    "a1=int(kbl,2)^int(mbr,2)\n",
    "a2=int(kbr,2)^int(mbl,2)\n",
    "a3=a1^a2\n",
    "a4=bin(a3)[2:].zfill(64)\n",
    "a5=a4[0:32]\n",
    "a6=a4[32:]\n",
    "a7=int(a5,2)^int(a6,2)\n",
    "print(\"128 Bit Key = \",kb)\n",
    "print(\"128 Random Bits Generated = \",mb)\n",
    "print(\"RES/SRES = \",bin(a7)[2:].zfill(len(a5)))"
   ]
  },
  {
   "cell_type": "code",
   "execution_count": null,
   "id": "d05ef784",
   "metadata": {},
   "outputs": [],
   "source": []
  }
 ],
 "metadata": {
  "kernelspec": {
   "display_name": "Python 3 (ipykernel)",
   "language": "python",
   "name": "python3"
  },
  "language_info": {
   "codemirror_mode": {
    "name": "ipython",
    "version": 3
   },
   "file_extension": ".py",
   "mimetype": "text/x-python",
   "name": "python",
   "nbconvert_exporter": "python",
   "pygments_lexer": "ipython3",
   "version": "3.9.13"
  }
 },
 "nbformat": 4,
 "nbformat_minor": 5
}
